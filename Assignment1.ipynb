{
 "cells": [
  {
   "cell_type": "code",
   "execution_count": 8,
   "id": "43b9d0bd-a57d-4047-b264-90c4b7d553f4",
   "metadata": {},
   "outputs": [
    {
     "name": "stdin",
     "output_type": "stream",
     "text": [
      " How many units used  310\n"
     ]
    },
    {
     "name": "stdout",
     "output_type": "stream",
     "text": [
      "2250.0\n"
     ]
    }
   ],
   "source": [
    "\"\"\" Create a python program to compute the electricity bill for a household.\n",
    "\n",
    "The per-unit charges in rupees are as follows: For the first 100 units, the user will be charged Rs. 4.5 per\n",
    "unit, for the next 100 units, the user will be charged Rs. 6 per unit, and for the next 100 units, the user will\n",
    "be charged Rs. 10 per unit, After 300 units and above the user will be charged Rs. 20 per unit.\n",
    "\n",
    "You are required to take the units of electricity consumed in a month from the user as input.\n",
    "Your program must pass this test case: when the unit of electricity consumed by the user in a month is\n",
    "310, the total electricity bill should be 2250. \"\"\"\n",
    "\n",
    "units_used = int ( input (\" How many units used \" )) \n",
    "charge = 0\n",
    "\n",
    "if units_used <= 100: \n",
    "    charge = units_used*4.5\n",
    "elif units_used <= 200:\n",
    "        charge = (100 * 4.5) + ((units_used - 100) * 6)\n",
    "elif units_used <= 300:\n",
    "        charge = (100 * 4.5) + (100 * 6) + ((units_used - 200) * 10)\n",
    "else:\n",
    "        charge = (100 * 4.5) + (100 * 6) + (100 * 10) + ((units_used - 300) * 20)\n",
    "\n",
    "print (charge) \n",
    "     "
   ]
  },
  {
   "cell_type": "code",
   "execution_count": 9,
   "id": "8c480fdc-8e0d-4117-a6b8-81faf343a395",
   "metadata": {},
   "outputs": [
    {
     "name": "stdout",
     "output_type": "stream",
     "text": [
      "3\n",
      "4\n",
      "5\n",
      "6\n",
      "6\n",
      "7\n",
      "837\n",
      "474645\n",
      "6\n",
      "7\n",
      "433\n",
      "5\n",
      "5\n",
      "6\n",
      "6\n",
      "7\n",
      "8\n",
      "8\n",
      "9\n",
      "4646\n",
      "47632876\n"
     ]
    }
   ],
   "source": [
    "'''Explain with an example each when to use a for loop and a while loop.'''  \n",
    "## A for loop is generally used when you know in advance how many times you want to iterate over a sequence (like a list, tuple, etc).  \n",
    "\n",
    "d1 = [3,4,5,6,6,7,837,474645]\n",
    "for x in d1:\n",
    "    print (x)\n",
    "\n",
    "#A while loop is used when you want to repeat a block of code as long as a condition is true. It is useful when the number of iterations is not known beforehand and depends on a condition being met during the execution.\n",
    "\n",
    "d1=[6,7,433,5,5,6,6,7,8,8,9,4646,47632876]\n",
    "x=len(d1)\n",
    "i = 0 \n",
    "while i < x: \n",
    "    print (d1[i])\n",
    "    i=i+1\n"
   ]
  },
  {
   "cell_type": "code",
   "execution_count": 39,
   "id": "456b5b3d-ff2f-45c1-907d-535d725b8758",
   "metadata": {},
   "outputs": [
    {
     "name": "stdout",
     "output_type": "stream",
     "text": [
      "[2, 4, 5, 6, 8, 10, 12, 14, 15, 16, 18, 20, 22, 24, 25, 26, 28, 30, 32, 34, 35, 36, 38, 40, 42, 44, 45, 46, 48, 50, 52, 54, 55, 56, 58, 60, 62, 64, 65, 66, 68, 70, 72, 74, 75, 76, 78, 80, 82, 84, 85, 86, 88, 90, 92, 94, 95, 96, 98, 100]\n",
      "[2, 4, 5, 6, 8, 10, 12, 14, 15, 16, 18, 20, 22, 24, 25, 26, 28, 30, 32, 34, 35, 36, 38, 40, 42, 44, 45, 46, 48, 50, 52, 54, 55, 56, 58, 60, 62, 64, 65, 66, 68, 70, 72, 74, 75, 76, 78, 80, 82, 84, 85, 86, 88, 90, 92, 94, 95, 96, 98, 100]\n"
     ]
    }
   ],
   "source": [
    "\"\"\"Create a list of numbers from 1 to 100. Use for loop and while loop to calculate the cube of each\n",
    "number and if the cube of that number is divisible by 4 or 5 then append that number in a list and print\n",
    "that list.\"\"\"\n",
    "\n",
    "#for loop\n",
    "num = list(range(1,101))\n",
    "updated_list=[]\n",
    "for i in num:\n",
    "    x = i ** 3 \n",
    "    if x % 4 == 0 or x % 5 == 0:\n",
    "        updated_list.append(i)\n",
    "        \n",
    "print(updated_list)\n",
    "\n",
    "#while loop \n",
    "\n",
    "num = list(range(1,101))\n",
    "updated_list=[]\n",
    "i=1 \n",
    "while i <= len(num):\n",
    "    x = i ** 3 \n",
    "    if x % 4 == 0 or x % 5 == 0:\n",
    "        updated_list.append(i)\n",
    "    i=i+1    \n",
    "print(updated_list)\n",
    "\n",
    "    "
   ]
  },
  {
   "cell_type": "code",
   "execution_count": 4,
   "id": "55d5bae0-0d49-4e47-959e-6dce59672ccc",
   "metadata": {},
   "outputs": [
    {
     "name": "stdout",
     "output_type": "stream",
     "text": [
      "12\n"
     ]
    }
   ],
   "source": [
    "''' Write a program to filter count vowels in the below-given string.\n",
    "string = \"I want to become a data scientist\" '''\n",
    "\n",
    "string = \"I want to become a data scientist\"\n",
    "\n",
    "vowels = \"aeiouAEIOU\"\n",
    "v_count = 0\n",
    "for char in string:\n",
    "    if char in vowels:\n",
    "        v_count = v_count + 1\n",
    "print ( v_count )        "
   ]
  },
  {
   "cell_type": "code",
   "execution_count": 5,
   "id": "8b37ccac-c9e0-48f9-8554-28626bea82fe",
   "metadata": {},
   "outputs": [
    {
     "name": "stdout",
     "output_type": "stream",
     "text": [
      "The Sum is 55\n",
      "the product is 3628800\n",
      "55 3628800\n"
     ]
    }
   ],
   "source": [
    "'''Write a python program to print the sum and product of the first 10 natural numbers using for\n",
    "and while loop.'''\n",
    "\n",
    "#For Loop  :  \n",
    "sum=0\n",
    "pro=1\n",
    "for i in range(1,11):\n",
    "    sum=i+sum\n",
    "    pro=i*pro \n",
    "    \n",
    "print ( \"The Sum is\", sum ) \n",
    "print ( \"the product is\", pro )\n",
    "\n",
    "#While Loop :\n",
    "\n",
    "sum=0 \n",
    "pro=1 \n",
    "counter=1\n",
    "\n",
    "while counter <= 10: \n",
    "      sum = sum + counter \n",
    "      pro = pro * counter \n",
    "      counter = counter + 1\n",
    "print (sum, pro )\n"
   ]
  },
  {
   "cell_type": "code",
   "execution_count": null,
   "id": "c04f5a8d-11d5-49f3-bd97-31597a6fe38f",
   "metadata": {},
   "outputs": [],
   "source": []
  }
 ],
 "metadata": {
  "kernelspec": {
   "display_name": "Python 3 (ipykernel)",
   "language": "python",
   "name": "python3"
  },
  "language_info": {
   "codemirror_mode": {
    "name": "ipython",
    "version": 3
   },
   "file_extension": ".py",
   "mimetype": "text/x-python",
   "name": "python",
   "nbconvert_exporter": "python",
   "pygments_lexer": "ipython3",
   "version": "3.10.8"
  }
 },
 "nbformat": 4,
 "nbformat_minor": 5
}
